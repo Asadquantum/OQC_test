{
 "cells": [
  {
   "cell_type": "markdown",
   "id": "a8588ed5",
   "metadata": {},
   "source": [
    "# Part 3: Single qubit gates using minimum duration $X$ and $Z$ axis rotations"
   ]
  },
  {
   "cell_type": "markdown",
   "id": "5d4b299f",
   "metadata": {},
   "source": [
    "### Input:"
   ]
  },
  {
   "cell_type": "markdown",
   "id": "65df2612",
   "metadata": {},
   "source": [
    "A string in the form of a comma-separated list of sequential rotations on one particular qubit.\n",
    "The string takes the form: “{Axis}({Angle}}, {Axis}({Angle}), …” where {Axis} can be X or Y\n",
    "and angle is an integer specifying the angle of rotation in degrees.\n",
    "\n",
    "The durations of X and Z pulses in nanoseconds."
   ]
  },
  {
   "cell_type": "markdown",
   "id": "c8f4a3d6",
   "metadata": {},
   "source": [
    "### Required Output:"
   ]
  },
  {
   "cell_type": "markdown",
   "id": "74532dae",
   "metadata": {},
   "source": [
    "Optimise the instruction sequence such that the total time taken is minimised using $X$ and $Z$ pulses."
   ]
  },
  {
   "cell_type": "markdown",
   "id": "4f0c21a9",
   "metadata": {},
   "source": [
    "### Solution:"
   ]
  },
  {
   "cell_type": "markdown",
   "id": "65e60001",
   "metadata": {},
   "source": [
    "#### Intuition: "
   ]
  },
  {
   "cell_type": "markdown",
   "id": "ed95e881",
   "metadata": {},
   "source": [
    "From part-2, we parameterized$^1$ U as Z$\\left(\\alpha\\right)$X$\\left(\\beta\\right)$Z$\\left(\\gamma\\right)$ where"
   ]
  },
  {
   "cell_type": "markdown",
   "id": "e7647346",
   "metadata": {},
   "source": [
    "$$\n",
    "\\alpha=\\tan^{-1}\\left(\\frac{-x_2}{x_1}\\right)+ \\tan^{-1}\\left(\\frac{x_3}{x_4}\\right)\\\\\n",
    "\\gamma=\\tan^{-1}\\left(\\frac{-x_2}{x_1}\\right)- \\tan^{-1}\\left(\\frac{x_3}{x_4}\\right)\\\\\n",
    "\\beta=2\\tan^{-1}\\left(\\frac{x_3 \\sin\\left(\\frac{\\alpha+\\gamma}{2}\\right)}{x_2 \\sin\\left(\\frac{\\alpha-\\gamma}{2}\\right)}\\right)\n",
    "$$"
   ]
  },
  {
   "cell_type": "markdown",
   "id": "5c06640f",
   "metadata": {},
   "source": [
    "Since we wish to optimize the duration, $X$ pulse may require less time than $Z$. In this case, we should decmpose U as X$\\left(\\alpha\\right)$Z$\\left(\\beta\\right)$X$\\left(\\gamma\\right)$. The single qubit unitary U in this case can be written as"
   ]
  },
  {
   "cell_type": "markdown",
   "id": "ad5c102e",
   "metadata": {},
   "source": [
    "$$U=\\mathrm{X}\\left(\\alpha\\right)\\mathrm{Z}\\left(\\beta\\right)\\mathrm{X}\\left(\\gamma\\right)=\\begin{pmatrix}\n",
    "\\cos\\left(\\frac{\\alpha+\\gamma}{2}\\right)\\cos\\left(\\frac{\\beta}{2}\\right)+\\dot{\\iota} \\cos\\left(\\frac{\\alpha-\\gamma}{2}\\right)\\sin\\left(\\frac{\\beta}{2}\\right)& \n",
    "-\\sin\\left(\\frac{\\alpha-\\gamma}{2}\\right)\\sin\\left(\\frac{\\beta}{2}\\right)-\\dot{\\iota} \\sin\\left(\\frac{\\alpha+\\gamma}{2}\\right)\\cos\\left(\\frac{\\beta}{2}\\right)\\\\\n",
    "\\sin\\left(\\frac{\\alpha-\\gamma}{2}\\right)\\sin\\left(\\frac{\\beta}{2}\\right)-\\dot{\\iota} \\sin\\left(\\frac{\\alpha+\\gamma}{2}\\right)\\cos\\left(\\frac{\\beta}{2}\\right) &\n",
    "\\cos\\left(\\frac{\\alpha+\\gamma}{2}\\right)\\cos\\left(\\frac{\\beta}{2}\\right)-\\dot{\\iota} \\cos\\left(\\frac{\\alpha-\\gamma}{2}\\right)\\sin\\left(\\frac{\\beta}{2}\\right)\n",
    "\\end{pmatrix}\n",
    "$$"
   ]
  },
  {
   "cell_type": "markdown",
   "id": "722005ce",
   "metadata": {},
   "source": [
    "where "
   ]
  },
  {
   "cell_type": "markdown",
   "id": "1c1f8746",
   "metadata": {},
   "source": [
    "$$\\mathrm{X}\\left(\\theta\\right)=\\begin{pmatrix}\n",
    "\\cos \\left(\\frac{\\theta}{2}\\right) & -\\dot{\\iota} \\sin \\left(\\frac{\\theta}{2}\\right)\\\\\n",
    "-\\dot{\\iota} \\sin \\left(\\frac{\\theta}{2}\\right) & \\cos \\left(\\frac{\\theta}{2}\\right)\n",
    "\\end{pmatrix},\n",
    "$$\n",
    "and\n",
    "$$\n",
    "\\mathrm{Z}\\left(\\theta\\right)=\\begin{pmatrix}\n",
    "e^{-\\dot{\\iota}\\left(\\frac{\\theta}{2}\\right)} & 0\\\\\n",
    "0 & e^{\\dot{\\iota}\\left(\\frac{\\theta}{2}\\right)}\n",
    "\\end{pmatrix}.\n",
    "$$"
   ]
  },
  {
   "cell_type": "markdown",
   "id": "4d3b654d",
   "metadata": {},
   "source": [
    "Any general single qubit unitary belongs to SU(2) and thus can be represented as$^{2}$"
   ]
  },
  {
   "cell_type": "markdown",
   "id": "efbee20f",
   "metadata": {},
   "source": [
    "$$U=\\begin{pmatrix}\n",
    "a & b\\\\\n",
    "-\\bar{b} & \\bar{a}\n",
    "\\end{pmatrix} = \\begin{pmatrix}\n",
    "x_1+\\dot{\\iota}x_2 & x_3+\\dot{\\iota}x_4\\\\\n",
    "-x_3+\\dot{\\iota}x_4 & x_1-\\dot{\\iota}x_2\n",
    "\\end{pmatrix}\n",
    "$$"
   ]
  },
  {
   "cell_type": "markdown",
   "id": "9cc72fc5",
   "metadata": {},
   "source": [
    "Therefore,"
   ]
  },
  {
   "cell_type": "markdown",
   "id": "ca17f15c",
   "metadata": {},
   "source": [
    "$$\n",
    "x_1=\\cos\\left(\\frac{\\alpha+\\gamma}{2}\\right)\\cos\\left(\\frac{\\beta}{2}\\right)\\\\\n",
    "x_2=\\cos\\left(\\frac{\\alpha-\\gamma}{2}\\right)\\sin\\left(\\frac{\\beta}{2}\\right)\\\\\n",
    "x_3=-\\sin\\left(\\frac{\\alpha-\\gamma}{2}\\right)\\sin\\left(\\frac{\\beta}{2}\\right)\\\\\n",
    "x_4=-\\sin\\left(\\frac{\\alpha+\\gamma}{2}\\right)\\cos\\left(\\frac{\\beta}{2}\\right)\n",
    "$$"
   ]
  },
  {
   "cell_type": "markdown",
   "id": "47780edd",
   "metadata": {},
   "source": [
    "Solving this, we get"
   ]
  },
  {
   "cell_type": "markdown",
   "id": "542bb14e",
   "metadata": {},
   "source": [
    "$$\n",
    "\\alpha=\\tan^{-1}\\left(\\frac{-x_4}{x_1}\\right)+ \\tan^{-1}\\left(\\frac{x_3}{x_2}\\right)\\\\\n",
    "\\gamma=\\tan^{-1}\\left(\\frac{-x_4}{x_1}\\right)- \\tan^{-1}\\left(\\frac{x_3}{x_2}\\right)\\\\\n",
    "\\beta=2\\tan^{-1}\\left(\\frac{x_3 \\sin\\left(\\frac{\\alpha-\\gamma}{2}\\right)}{x_1 \\cos\\left(\\frac{\\alpha+\\gamma}{2}\\right)}\\right)\n",
    "$$"
   ]
  },
  {
   "cell_type": "markdown",
   "id": "d48d9ab4",
   "metadata": {},
   "source": [
    "$^1$ https://qiskit.org/documentation/stubs/qiskit.quantum_info.OneQubitEulerDecomposer.html \n",
    "\n",
    "$^2$ https://lsa.umich.edu/content/dam/math-assets/math-document/reu-documents/REUsummer2015LiangThompsonDamelin.pdf"
   ]
  },
  {
   "cell_type": "markdown",
   "id": "8d0b34d7",
   "metadata": {},
   "source": [
    "#### Algorithm Steps"
   ]
  },
  {
   "cell_type": "markdown",
   "id": "39fa0beb",
   "metadata": {},
   "source": [
    "Step-1: First we prepare the sequence of pulses either provided by user or chosen at random and the duration of gates X and Z.\n",
    "\n",
    "Step-2: We then define the rotation operators for X$\\left(\\theta\\right)$ and Z$\\left(\\theta\\right)$ which will take the arguments $\\theta$ from sequence. \n",
    "\n",
    "Step-3: From the intuition discussed above, we then merge our sequence into a single untiary.\n",
    "\n",
    "Step-4: We obtain the arguments $\\alpha,\\beta,$ and $\\gamma$ for the optimal pulse sequence  $\\mathrm{Z}\\left(\\alpha\\right)\\mathrm{X}\\left(\\beta\\right)\\mathrm{Z}\\left(\\gamma\\right)$ if duration of Z-gate is smaller or $\\mathrm{X}\\left(\\alpha\\right)\\mathrm{Z}\\left(\\beta\\right)\\mathrm{X}\\left(\\gamma\\right)$ if duration of X-gate is smaller.\n",
    "\n",
    "Step 5: Then we check that our pulse sequence equates unitary U.\n",
    "\n",
    "Step-6: Finally we print the optimal list of sequences."
   ]
  },
  {
   "cell_type": "markdown",
   "id": "2167e810",
   "metadata": {},
   "source": [
    "#### Python Program"
   ]
  },
  {
   "cell_type": "markdown",
   "id": "77525f04",
   "metadata": {},
   "source": [
    "Step-1: First we prepare the sequence of pulses either provided by user or chosen at random."
   ]
  },
  {
   "cell_type": "code",
   "execution_count": 2,
   "id": "06d1f0b1",
   "metadata": {},
   "outputs": [
    {
     "name": "stdout",
     "output_type": "stream",
     "text": [
      "Enter pulse sequence manually: (y/n) y\n",
      "Enter sequence of X and Y rotations separated by commas: Axis(Angle),Axis(Angle),... : X(43),Y(22),X(13),Y(29),X(43),Y(220),X(403),Y(202)\n",
      "Enter duration of Z gate in ns:44\n",
      "Enter duration of X gate in ns:45\n",
      "\n",
      " The overall rotation using input pulse sequence is: \n",
      "\n",
      "[[ 0.50754764-0.52621607j -0.57619456-0.36536539j]\n",
      " [ 0.57619456-0.36536539j  0.50754764+0.52621607j]]\n",
      "\n",
      " The overall rotation using optimal pulse sequence is the same: \n",
      "\n",
      "[[ 0.50754764-0.52621607j -0.57619456-0.36536539j]\n",
      " [ 0.57619456-0.36536539j  0.50754764+0.52621607j]]\n",
      "\n",
      " And the optimal pulse sequence is:\n",
      "\n",
      "Z (  103.6557607060568  ) X ( 86.04253289908777 ) Z ( -11.586611679226886 )\n"
     ]
    }
   ],
   "source": [
    "import numpy as np\n",
    "import random as rd\n",
    "from Part3_function_file import *\n",
    "\n",
    "while 1:\n",
    "    choice = input('Enter pulse sequence manually: (y/n) ')\n",
    "    if choice not in ['y', 'Y', 'n', 'N']:\n",
    "        print('Incorrect choice')\n",
    "    else:\n",
    "        list_of_rotation_type=[]\n",
    "        list_of_rotation_angle=[]\n",
    "        if choice in ['y', 'Y']:\n",
    "            sequence_input = input('Enter sequence of X and Y rotations separated by commas: Axis(Angle),Axis(Angle),... : ')\n",
    "            for individual_pulse_in_sequence in sequence_input.split(','): #parsing the sequence for validity \n",
    "                if individual_pulse_in_sequence.split('(')[0] not in ['X', 'Y']:\n",
    "                    raise Exception('Can only input X and Y pulse rotations')\n",
    "                else:\n",
    "                    list_of_rotation_type.append(individual_pulse_in_sequence.split('(')[0])  \n",
    "                    \n",
    "                if individual_pulse_in_sequence.split('(')[1][:-1].replace('.','',1).isnumeric() == False:\n",
    "                    raise Exception('Incorrect input sequence')\n",
    "                else:\n",
    "                    list_of_rotation_angle.append(float(individual_pulse_in_sequence.split('(')[1][:-1]))\n",
    "                    \n",
    "\n",
    "        else:\n",
    "            theta_min=0\n",
    "            theta_max=360 \n",
    "            list_of_rotation_type=[]\n",
    "            list_of_rotation_angle=[]\n",
    "            sequence_length = input('Enter length of sequence:')\n",
    "            if sequence_length.isdigit() and sequence_length > '0':\n",
    "                for _ in range(int(sequence_length)):\n",
    "                    individual_pulse_type=rd.choice(['X','Y'])\n",
    "                    list_of_rotation_type.append(individual_pulse_type)\n",
    "                    individual_pulse_angle = rd.randint(theta_min, theta_max)\n",
    "                    list_of_rotation_angle.append(individual_pulse_angle)\n",
    "            else: \n",
    "                raise Exception('Not valid length')\n",
    "        length_Z = float(input('Enter duration of Z gate in ns:'))\n",
    "        length_X = float(input('Enter duration of X gate in ns:'))\n",
    "\n",
    "        mainfunc(list_of_rotation_type,list_of_rotation_angle,length_Z,length_X)\n",
    "        break"
   ]
  },
  {
   "cell_type": "code",
   "execution_count": null,
   "id": "d74c9627",
   "metadata": {},
   "outputs": [],
   "source": []
  }
 ],
 "metadata": {
  "kernelspec": {
   "display_name": "Python 3 (ipykernel)",
   "language": "python",
   "name": "python3"
  },
  "language_info": {
   "codemirror_mode": {
    "name": "ipython",
    "version": 3
   },
   "file_extension": ".py",
   "mimetype": "text/x-python",
   "name": "python",
   "nbconvert_exporter": "python",
   "pygments_lexer": "ipython3",
   "version": "3.8.10"
  }
 },
 "nbformat": 4,
 "nbformat_minor": 5
}
