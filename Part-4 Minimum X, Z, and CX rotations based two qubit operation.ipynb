{
 "cells": [
  {
   "cell_type": "markdown",
   "id": "de5bcbe2",
   "metadata": {},
   "source": [
    "# Part 4: Two qubit gates using minimum $X$, $Z$, and $CX$ axis rotations"
   ]
  },
  {
   "cell_type": "markdown",
   "id": "d9d83ada",
   "metadata": {},
   "source": [
    "### Input:"
   ]
  },
  {
   "cell_type": "markdown",
   "id": "49213528",
   "metadata": {},
   "source": [
    "A string in the form of a comma-separated list of sequential rotations on one particular qubit.\n",
    "The string takes the form: “{Axis}({Angle}}, {Axis}({Angle}), …” where {Axis} can be X or Y\n",
    "and angle is an integer specifying the angle of rotation in degrees. The gate lengths of Z, X and CX rotations will be provided as parameters."
   ]
  },
  {
   "cell_type": "markdown",
   "id": "ae88b091",
   "metadata": {},
   "source": [
    "### Required Output:"
   ]
  },
  {
   "cell_type": "markdown",
   "id": "e4e13056",
   "metadata": {},
   "source": [
    "The goal is to reduce the total gate length. In the output format, add an additional argument specifying the start time of the execution of the gate."
   ]
  },
  {
   "cell_type": "markdown",
   "id": "a1763ea8",
   "metadata": {},
   "source": [
    "### Solution:"
   ]
  },
  {
   "cell_type": "markdown",
   "id": "4fd74aad",
   "metadata": {},
   "source": [
    "#### Intuition: "
   ]
  },
  {
   "cell_type": "markdown",
   "id": "9da2d2ba",
   "metadata": {},
   "source": [
    "1. Any two qubit unitary operator U(4) can be represented by 15 single qubit and 3 2-qubit gates (CX gate)$^{1,2}$.\n",
    "\n",
    "\n",
    "2. For a unitary gate $\\in$ SU(4), one can reduce the number of CX gates required by approximate representation via KAK decomposition by compromising on the output gate fidelity$^2$.\n",
    "\n",
    "\n",
    "3. For our current scenario, we aim to minimize the total gate length while implementing the $\\textit{exact}$ gate."
   ]
  },
  {
   "cell_type": "markdown",
   "id": "f2c8231e",
   "metadata": {},
   "source": [
    "$^1$ Vatan, Farrokh, and Colin Williams. \"Optimal quantum circuits for general two-qubit gates.\" Physical Review A 69.3 (2004): 032315. [Theorem 5]$\\\\$\n",
    "$^2$ Cross, Andrew W., et al. \"Validating quantum computers using randomized model circuits.\" Physical Review A 100.3 (2019): 032328. [Appendix-B]"
   ]
  },
  {
   "cell_type": "markdown",
   "id": "7f3ae78a",
   "metadata": {},
   "source": [
    "Instead of goint for the unitary decomposition, I will focus on minimizing the pulses for some given pulse sequence through simple intuition provided in the question."
   ]
  },
  {
   "cell_type": "markdown",
   "id": "f3a22d9f",
   "metadata": {},
   "source": [
    "However, I am not fully clear about the requirement. Ideally, I would have asked by email for more clarity but due to the time constaint I have provided a very basic algorithm derived on some hints provided in the question as follows: "
   ]
  },
  {
   "cell_type": "markdown",
   "id": "79c4f7df",
   "metadata": {},
   "source": [
    "#### Algorithm Steps"
   ]
  },
  {
   "cell_type": "markdown",
   "id": "2287328c",
   "metadata": {},
   "source": [
    "Step-1: First we prepare the sequence of pulses either provided by user or chosen at random.\n",
    "\n",
    "Step-2: We combine the pulses before and after CX gates into single qubit unitary for each qubit.\n",
    "\n",
    "Step-3: We make optimal pulse sequences XZX for the combined pulses in step-2. \n",
    "\n",
    "Step-4: Then we parse the sequence to identify if CX(i,j) is followed by X(j,?) and if so, we may swap their positions if it leads to simplification.\n",
    "\n",
    "Step-5: Then we sweep to check if an X(i,$\\theta$) is followed by Z(1,180) and if so, we may swap their positions if it leads to simplification.\n",
    "\n",
    "Step-6: If two CX(i,j) gates with same i,j are together, we cancel them out.\n",
    "\n",
    "Step-7: We also try ZXZ decompositions and combinations of ZXZ and XZX decompositions to see if the sequence could be further simplified. \n",
    "\n",
    "Step-7: For the finalized sequence, we provide the sequence including gate and the time it acts."
   ]
  }
 ],
 "metadata": {
  "kernelspec": {
   "display_name": "Python 3 (ipykernel)",
   "language": "python",
   "name": "python3"
  },
  "language_info": {
   "codemirror_mode": {
    "name": "ipython",
    "version": 3
   },
   "file_extension": ".py",
   "mimetype": "text/x-python",
   "name": "python",
   "nbconvert_exporter": "python",
   "pygments_lexer": "ipython3",
   "version": "3.8.10"
  }
 },
 "nbformat": 4,
 "nbformat_minor": 5
}
